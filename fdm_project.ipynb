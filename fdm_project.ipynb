{
  "cells": [
    {
      "cell_type": "markdown",
      "metadata": {
        "id": "view-in-github",
        "colab_type": "text"
      },
      "source": [
        "<a href=\"https://colab.research.google.com/github/samyzaf/edueda/blob/master/fdm_project.ipynb\" target=\"_parent\"><img src=\"https://colab.research.google.com/assets/colab-badge.svg\" alt=\"Open In Colab\"/></a>"
      ]
    },
    {
      "cell_type": "markdown",
      "id": "71f3fac7",
      "metadata": {
        "cell_marker": "\"\"\"",
        "id": "71f3fac7"
      },
      "source": [
        "# **FDM Project Colaboratory Notebook**\n",
        "# **The Project is in Progress**\n",
        "# **Will be ready soon ...**\n",
        "\n",
        "# In the mean time start preparing for it ...\n",
        "\n",
        "* Main objective: design a simulator using\n",
        "  **Finite Difference Method (FDM)**\n",
        "  for solving a partial differential equation.\n",
        "\n",
        "* **FDM** is a numerical method for solving differential\n",
        "  equations and many other types of mathematical problems,\n",
        "  which is explained in details at the course\n",
        "  lecture notes and the official project booklet,\n",
        "  with many examples that can help you\n",
        "  with this project.\n",
        "\n",
        "* Before starting to work on this project, please read the\n",
        "  project booklet (\"fdm.pdf\"), and make sure you understand\n",
        "  the examples of the 2D heat and wave equations there.\n",
        "  You will find there links to other colab notebooks\n",
        "  which should give you a good start for this project.\n",
        "\n",
        "## **10 mintes Python Guide**\n",
        "* We will use the\n",
        "  [Python](https://python.org) programming\n",
        "  language for this project.\n",
        "  \n",
        "* This is a very easy language to learn!\n",
        "\n",
        "* Please invest 10 minutes in one of the following tutorials.\n",
        "\n",
        "* [Tutirial 1](https://colab.research.google.com/github/data-psl/lectures2020/blob/master/notebooks/01_python_basics.ipynb#scrollTo=3EKvP6jiMZ9H)\n",
        "\n",
        "* [Tutorial 2](https://colab.research.google.com/github/jckantor/CBE30338/blob/master/docs/01.02-Python-Basics.ipynb)\n",
        "\n",
        "## **Google Colab Notebook Quick Tutorial**\n",
        "\n",
        "* Students that are new to **Google Colab Notebook**\n",
        "  are encouraged to invest 10 minutes in one of the following tutorials:\n",
        "\n",
        "* Beginners **Google Colab (Jupyter notebook)**,\n",
        "  YouTube courses:\n",
        "  * [Complete Beginner's Tutorial to Google Colab](https://www.youtube.com/watch?v=JJYZ3OE_lGo)  \n",
        "  * [Google Colab Tutorial for Beginners](https://www.youtube.com/watch?v=iMlMfrXJYSg)\n",
        "  * [Official Google Colaboratory Tutorial](\n",
        "    https://colab.research.google.com/drive/16pBJQePbqkz3QFV54L4NIkOn1kwpuRrj)\n"
      ]
    },
    {
      "cell_type": "markdown",
      "id": "e0957de0",
      "metadata": {
        "cell_marker": "\"\"\"",
        "id": "e0957de0"
      },
      "source": [
        "\n",
        "## **5 Minutes $\\bf\\LaTeX$ Guide: write math in Google Colab Notebook in no time!**\n",
        "\n",
        "* All we need to know is how to write a math fraction,\n",
        "  exponent, subscript, and a few Greek letters!\n",
        "  After going through the easy examples in this table, you\n",
        "  have all you need for this task!  \n",
        "\n",
        "  <IMG\n",
        "src=\"https://samyzaf.com/fdm/latex_guide_1.jpg?3\"\n",
        "width=700\n",
        "align=\"center\"\n",
        "/>  \n",
        "\n",
        "* A math formula starts with a `$` sign and ends with a `$` sign.\n",
        "\n",
        "* This is good enough for our needs.\n",
        "\n",
        "* For more information please visit the Google Official Guide:  \n",
        " [Equations and Formulas in Google Colab](https://colab.research.google.com/github/EPS-Libraries-Berkeley/volt/blob/main/LaTeX/Equations_and_Formulas.ipynb)\n",
        "\n",
        "## **$\\LaTeX$ EXERCISE**\n",
        "* To make sure you got the idea,\n",
        "  type $\\LaTeX$ code to produce the follwoing three formulas!\n",
        "\n",
        "  <IMG\n",
        "  src=\"https://samyzaf.com/fdm/latex1.png\"\n",
        "  width=500\n",
        "  align=\"center\"\n",
        "  />\n",
        "\n",
        "* Write your code in the following text cell"
      ]
    },
    {
      "cell_type": "markdown",
      "id": "bdf18892",
      "metadata": {
        "cell_marker": "\"\"\"",
        "id": "bdf18892"
      },
      "source": [
        "## **Write your code here**\n",
        "\n",
        "1.  \n",
        "\n",
        "2.  \n",
        "\n",
        "3.  \n",
        "\n",
        "\n",
        "\n"
      ]
    }
  ],
  "metadata": {
    "jupytext": {
      "cell_metadata_filter": "-all",
      "main_language": "python",
      "notebook_metadata_filter": "-all"
    },
    "colab": {
      "provenance": [],
      "include_colab_link": true
    },
    "language_info": {
      "name": "python"
    },
    "kernelspec": {
      "name": "python3",
      "display_name": "Python 3"
    }
  },
  "nbformat": 4,
  "nbformat_minor": 5
}